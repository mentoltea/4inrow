{
 "cells": [
  {
   "cell_type": "code",
   "execution_count": null,
   "id": "77a9f3ad",
   "metadata": {},
   "outputs": [],
   "source": [
    "import qnn\n",
    "\n",
    "NN = qnn.game_qNN.new(6, 7, inner_layers=[63, 32, 16])\n"
   ]
  },
  {
   "cell_type": "code",
   "execution_count": null,
   "id": "330def0b",
   "metadata": {},
   "outputs": [],
   "source": [
    "import game as Game\n",
    "import numpy as np\n",
    "\n",
    "gm = Game.Game(6,7)\n",
    "\n",
    "gm.random_moves(6)\n",
    "gm.print()\n",
    "\n",
    "# NN.predict( np.array([gm.gamemap]) )\n",
    "NN.get_columns(gm, -1)"
   ]
  },
  {
   "cell_type": "code",
   "execution_count": 4,
   "id": "6ffed42a",
   "metadata": {},
   "outputs": [
    {
     "name": "stdout",
     "output_type": "stream",
     "text": [
      "- - - - - - - \n",
      "- O - - - - - \n",
      "- X - - - - - \n",
      "- O - X - - X \n",
      "O O - X - - O \n",
      "O O - X X - X \n",
      "0 1 2 3 4 5 6 \n",
      "\n",
      "([[0, 0, 3], [0, 0, 5], [0, 1, 3], [0, 1, 5], [0, 2, 3], [0, 2, 5], [0, 3, 5], [0, 4, 3], [0, 4, 5], [0, 5, 3], [0, 6, 3], [0, 6, 5], [1, 0, 3], [1, 0, 5], [1, 2, 3], [1, 2, 5], [1, 3, 5], [1, 4, 3], [1, 4, 5], [1, 5, 3], [1, 6, 3], [1, 6, 5], [2, 0, 3], [2, 0, 5], [2, 1, 3], [2, 1, 5], [2, 2, 2], [2, 2, 3], [2, 2, 5], [2, 3, 5], [2, 4, 3], [2, 4, 5], [2, 5, 3], [2, 6, 3], [2, 6, 5], [3], [4, 0, 3], [4, 0, 5], [4, 1, 3], [4, 1, 5], [4, 2, 3], [4, 2, 5], [4, 3, 5], [4, 4, 3], [4, 4, 5], [4, 5, 3], [4, 6, 3], [4, 6, 5], [5], [6, 0, 3], [6, 0, 5], [6, 1, 3], [6, 1, 5], [6, 2, 3], [6, 2, 5], [6, 3, 5], [6, 4, 3], [6, 4, 5], [6, 5, 3], [6, 6, 3], [6, 6, 5]], 0.7322672266185386, 1)\n",
      "0\n"
     ]
    }
   ],
   "source": [
    "import numpy as np\n",
    "import mcts\n",
    "import Q\n",
    "import game as Game\n",
    "\n",
    "gm = Game.Game(6,7)\n",
    "\n",
    "# gm.gamemap[5][1] = 1\n",
    "# gm.gamemap[5][2] = 1\n",
    "# gm.gamemap[5][3] = 1\n",
    "# gm.gamemap[4][2] = -1\n",
    "# gm.turn = -1\n",
    "gm.random_moves(14)\n",
    "\n",
    "gm.print()\n",
    "\n",
    "# print(Q.Q(gm, -1, depth_search=4))\n",
    "print(mcts.get_moves_and_chance_n_steps_from_win(gm, 1, 4))\n",
    "print(mcts.loss(gm, 1, 4))"
   ]
  },
  {
   "cell_type": "code",
   "execution_count": 13,
   "id": "b9e41f31",
   "metadata": {},
   "outputs": [],
   "source": [
    "import Q_nn\n",
    "\n",
    "NN = Q_nn.game_Q_NN.new(6, 7)"
   ]
  },
  {
   "cell_type": "code",
   "execution_count": 14,
   "id": "d3fc9dc4",
   "metadata": {},
   "outputs": [
    {
     "data": {
      "text/plain": [
       "([4, 6, 2, 0, 5, 3, 1],\n",
       " [(4, np.float32(0.46515495)),\n",
       "  (6, np.float32(0.4545101)),\n",
       "  (2, np.float32(0.3927114)),\n",
       "  (0, np.float32(0.3820529)),\n",
       "  (5, np.float32(0.359259)),\n",
       "  (3, np.float32(0.31049034)),\n",
       "  (1, np.float32(0.3007287))])"
      ]
     },
     "execution_count": 14,
     "metadata": {},
     "output_type": "execute_result"
    }
   ],
   "source": [
    "NN.get_columns(gm, 1)"
   ]
  }
 ],
 "metadata": {
  "kernelspec": {
   "display_name": "Python 3",
   "language": "python",
   "name": "python3"
  },
  "language_info": {
   "codemirror_mode": {
    "name": "ipython",
    "version": 3
   },
   "file_extension": ".py",
   "mimetype": "text/x-python",
   "name": "python",
   "nbconvert_exporter": "python",
   "pygments_lexer": "ipython3",
   "version": "3.12.7"
  }
 },
 "nbformat": 4,
 "nbformat_minor": 5
}

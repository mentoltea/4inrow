{
 "cells": [
  {
   "cell_type": "code",
   "execution_count": null,
   "id": "afe5d630",
   "metadata": {},
   "outputs": [],
   "source": [
    "import tensorflow as tf\n",
    "import keras\n",
    "import numpy as np"
   ]
  },
  {
   "cell_type": "code",
   "execution_count": null,
   "id": "bc357da6",
   "metadata": {},
   "outputs": [],
   "source": [
    "layers = [\n",
    "    keras.layers.Input(shape=(3,7)),\n",
    "    keras.layers.Dense(units= 3, activation=tf.tanh),\n",
    "    keras.layers.Dense(units= 1, activation=keras.activations.tanh),\n",
    "]\n",
    "\n",
    "model = keras.Sequential(layers)\n",
    "model.summary()\n",
    "print(model.get_weights())\n",
    "# model.compile(optimizer='adam',\n",
    "#               loss='categorical_crossentropy') "
   ]
  },
  {
   "cell_type": "code",
   "execution_count": null,
   "id": "09fc0ef1",
   "metadata": {},
   "outputs": [],
   "source": [
    "x = float(1)\n",
    "y = float(2)\n",
    "print(f\"x: {x}, y: {y}\")"
   ]
  },
  {
   "cell_type": "code",
   "execution_count": null,
   "id": "2943f6e2",
   "metadata": {},
   "outputs": [],
   "source": [
    "# model_input = [\n",
    "#     [   \n",
    "#         [2, -1, 2],\n",
    "#         [1, 1, -1],\n",
    "\n",
    "#     ],\n",
    "# ]\n",
    "model_input = [ np.random.random((3, 7)) ]\n",
    "model_input = np.array(model_input)\n",
    "print(model_input)"
   ]
  },
  {
   "cell_type": "code",
   "execution_count": null,
   "id": "a910f7f9",
   "metadata": {},
   "outputs": [],
   "source": [
    "res = model.predict(model_input)\n",
    "print(res)\n",
    "real_res = []\n",
    "for r in res[0]:\n",
    "    real_res.append(r[0])\n",
    "real_res = np.array(real_res)\n",
    "print(real_res)"
   ]
  },
  {
   "cell_type": "code",
   "execution_count": null,
   "id": "b79ceef8",
   "metadata": {},
   "outputs": [],
   "source": [
    "# model.summary()\n",
    "config = model.get_config()\n",
    "shape = config[\"layers\"][0][\"config\"][\"batch_shape\"]\n",
    "shape = tuple(filter(None, list(shape)))\n",
    "print(shape)"
   ]
  },
  {
   "cell_type": "code",
   "execution_count": null,
   "id": "f97e1f56",
   "metadata": {},
   "outputs": [],
   "source": [
    "import game\n",
    "import nn\n",
    "\n",
    "NN = nn.game_NN.new(6, 7)"
   ]
  },
  {
   "cell_type": "code",
   "execution_count": null,
   "id": "f986b095",
   "metadata": {},
   "outputs": [],
   "source": [
    "gm = game.Game(6, 7)\n",
    "gm.gamemap[3][3] = game.CellEnum.FILLED_P1"
   ]
  },
  {
   "cell_type": "code",
   "execution_count": null,
   "id": "1efa2b8e",
   "metadata": {},
   "outputs": [],
   "source": [
    "NN.get_column(gm.gamemap, gm.rows, gm.columns, game.CellEnum.FILLED_P1, game.CellEnum.FILLED_P2)"
   ]
  },
  {
   "cell_type": "code",
   "execution_count": null,
   "id": "09dd532e",
   "metadata": {},
   "outputs": [],
   "source": [
    "import os\n",
    "directory = './'\n",
    "files = [f for f in os.listdir(directory) if os.path.isfile(directory + f) and f.find(\".keras\")!=-1]\n",
    "print(files)"
   ]
  },
  {
   "cell_type": "code",
   "execution_count": null,
   "id": "9cd7436e",
   "metadata": {},
   "outputs": [],
   "source": [
    "import nn\n",
    "\n",
    "NN1 = nn.game_NN.new(3, 3)\n",
    "\n",
    "NN2 = NN1.copy()\n",
    "NN3 = NN2.copy()"
   ]
  },
  {
   "cell_type": "code",
   "execution_count": 1,
   "id": "b399a348",
   "metadata": {},
   "outputs": [
    {
     "name": "stdout",
     "output_type": "stream",
     "text": [
      "Epoch 1/2\n",
      "\tIteration 1/5\n",
      "\t\t0/8 games finished\n",
      "\t\t1/8 games finished\n",
      "\t\t5/8 games finished\n",
      "\t\t7/8 games finished\n",
      "\t\t8/8 games finished\n",
      "\t\tbreak\n",
      "\tIteration 2/5\n",
      "\t\t0/8 games finished\n",
      "\t\t1/8 games finished\n",
      "\t\t6/8 games finished\n",
      "\t\t7/8 games finished\n",
      "\t\t8/8 games finished\n",
      "\t\tbreak\n",
      "\tIteration 3/5\n",
      "\t\t0/8 games finished\n",
      "\t\t3/8 games finished\n",
      "\t\t7/8 games finished\n",
      "\t\t8/8 games finished\n",
      "\t\tbreak\n",
      "\tIteration 4/5\n",
      "\t\t0/8 games finished\n",
      "\t\t1/8 games finished\n",
      "\t\t5/8 games finished\n",
      "\t\t7/8 games finished\n",
      "\t\t8/8 games finished\n",
      "\t\tbreak\n",
      "\tIteration 5/5\n",
      "\t\t0/8 games finished\n",
      "\t\t2/8 games finished\n",
      "\t\t7/8 games finished\n",
      "\t\t8/8 games finished\n",
      "\t\tbreak\n",
      "Best result: (9, 1.1104761904761904)\n",
      "Epoch 2/2\n",
      "\tIteration 1/5\n",
      "\t\t0/8 games finished\n",
      "\t\t4/8 games finished\n",
      "\t\t6/8 games finished\n",
      "\t\t7/8 games finished\n",
      "\t\t8/8 games finished\n",
      "\t\tbreak\n",
      "\tIteration 2/5\n",
      "\t\t0/8 games finished\n",
      "\t\t3/8 games finished\n",
      "\t\t7/8 games finished\n",
      "\t\t8/8 games finished\n",
      "\t\tbreak\n",
      "\tIteration 3/5\n",
      "\t\t0/8 games finished\n",
      "\t\t4/8 games finished\n",
      "\t\t7/8 games finished\n",
      "\t\t8/8 games finished\n",
      "\t\tbreak\n",
      "\tIteration 4/5\n",
      "\t\t0/8 games finished\n",
      "\t\t3/8 games finished\n",
      "\t\t6/8 games finished\n",
      "\t\t7/8 games finished\n",
      "\t\t8/8 games finished\n",
      "\t\tbreak\n",
      "\tIteration 5/5\n",
      "\t\t0/8 games finished\n",
      "\t\t3/8 games finished\n",
      "\t\t8/8 games finished\n",
      "\t\tbreak\n"
     ]
    }
   ],
   "source": [
    "import evolve\n",
    "\n",
    "b = evolve.random_batch(6, 7, 16)\n",
    "b = evolve.evolve(b, 2)\n",
    "b.save(\"epoch2/\")"
   ]
  }
 ],
 "metadata": {
  "kernelspec": {
   "display_name": "Python 3",
   "language": "python",
   "name": "python3"
  },
  "language_info": {
   "codemirror_mode": {
    "name": "ipython",
    "version": 3
   },
   "file_extension": ".py",
   "mimetype": "text/x-python",
   "name": "python",
   "nbconvert_exporter": "python",
   "pygments_lexer": "ipython3",
   "version": "3.12.7"
  }
 },
 "nbformat": 4,
 "nbformat_minor": 5
}

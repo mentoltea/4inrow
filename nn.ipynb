{
 "cells": [
  {
   "cell_type": "code",
   "execution_count": null,
   "id": "1976f9fc",
   "metadata": {},
   "outputs": [],
   "source": [
    "import conv_nn\n",
    "import numpy as np\n",
    "\n",
    "NN = conv_nn.game_conv_NN.new(6, 7, 3, (4,4), [42, 7])\n",
    "NN.model.summary()"
   ]
  },
  {
   "cell_type": "code",
   "execution_count": null,
   "id": "e8659f2d",
   "metadata": {},
   "outputs": [],
   "source": [
    "import game\n",
    "\n",
    "gm = game.Game()\n",
    "gm.random_moves(7)\n",
    "gm.print()"
   ]
  },
  {
   "cell_type": "code",
   "execution_count": null,
   "id": "b75621ea",
   "metadata": {},
   "outputs": [],
   "source": [
    "# NN.predict( np.array( [gm.gamemap * 1] ) )\n",
    "NN.get_columns(gm, 1)"
   ]
  },
  {
   "cell_type": "code",
   "execution_count": 1,
   "id": "1767bcc4",
   "metadata": {},
   "outputs": [],
   "source": [
    "import conv_nn\n",
    "import keras\n",
    "\n",
    "NN = conv_nn.game_conv_NN.load_from(\"NN4/Conv2D_Regression_MSE.keras\")"
   ]
  },
  {
   "cell_type": "code",
   "execution_count": 2,
   "id": "bcfde2a2",
   "metadata": {},
   "outputs": [
    {
     "name": "stdout",
     "output_type": "stream",
     "text": [
      "Episode: 0\n",
      "\tTimestep: 1\n",
      "\tTimestep: 2\n",
      "\tTimestep: 3\n",
      "\tTimestep: 4\n",
      "\tTimestep: 5\n",
      "running reward: 0.00 at episode 0, frame count 5\n",
      "\tTimestep: 6\n",
      "\tTimestep: 7\n",
      "\tTimestep: 8\n",
      "\tTimestep: 9\n",
      "\tTimestep: 10\n",
      "running reward: 0.00 at episode 0, frame count 10\n",
      "\tTimestep: 11\n",
      "\tTimestep: 12\n",
      "\tTimestep: 13\n",
      "\tTimestep: 14\n",
      "\tTimestep: 15\n",
      "running reward: 0.00 at episode 0, frame count 15\n",
      "\tTimestep: 16\n",
      "\tTimestep: 17\n",
      "\tTimestep: 18\n",
      "\tTimestep: 19\n",
      "\tTimestep: 20\n",
      "\u001b[1m1/1\u001b[0m \u001b[32m━━━━━━━━━━━━━━━━━━━━\u001b[0m\u001b[37m\u001b[0m \u001b[1m0s\u001b[0m 104ms/step\n",
      "running reward: 0.00 at episode 0, frame count 20\n",
      "\tTimestep: 21\n"
     ]
    },
    {
     "name": "stderr",
     "output_type": "stream",
     "text": [
      "C:\\Users\\s7k\\AppData\\Roaming\\Python\\Python312\\site-packages\\keras\\src\\models\\functional.py:241: UserWarning: The structure of `inputs` doesn't match the expected structure.\n",
      "Expected: ['keras_tensor']\n",
      "Received: inputs=Tensor(shape=(16, 6, 7))\n",
      "  warnings.warn(msg)\n"
     ]
    },
    {
     "name": "stdout",
     "output_type": "stream",
     "text": [
      "\tTimestep: 22\n",
      "\tTimestep: 23\n",
      "\tTimestep: 24\n",
      "\u001b[1m1/1\u001b[0m \u001b[32m━━━━━━━━━━━━━━━━━━━━\u001b[0m\u001b[37m\u001b[0m \u001b[1m0s\u001b[0m 33ms/step\n",
      "Episode: 1\n",
      "\tTimestep: 1\n",
      "running reward: 8.50 at episode 1, frame count 25\n",
      "\tTimestep: 2\n",
      "\tTimestep: 3\n",
      "\tTimestep: 4\n",
      "\u001b[1m1/1\u001b[0m \u001b[32m━━━━━━━━━━━━━━━━━━━━\u001b[0m\u001b[37m\u001b[0m \u001b[1m0s\u001b[0m 37ms/step\n",
      "\tTimestep: 5\n",
      "Episode: 2\n",
      "\tTimestep: 1\n",
      "running reward: 5.50 at episode 2, frame count 30\n",
      "\tTimestep: 2\n",
      "\tTimestep: 3\n",
      "\u001b[1m1/1\u001b[0m \u001b[32m━━━━━━━━━━━━━━━━━━━━\u001b[0m\u001b[37m\u001b[0m \u001b[1m0s\u001b[0m 35ms/step\n",
      "\tTimestep: 4\n",
      "\tTimestep: 5\n",
      "Episode: 3\n",
      "\tTimestep: 1\n",
      "running reward: 4.50 at episode 3, frame count 35\n",
      "\tTimestep: 2\n",
      "\u001b[1m1/1\u001b[0m \u001b[32m━━━━━━━━━━━━━━━━━━━━\u001b[0m\u001b[37m\u001b[0m \u001b[1m0s\u001b[0m 47ms/step\n",
      "\tTimestep: 3\n",
      "\tTimestep: 4\n",
      "\tTimestep: 5\n",
      "Episode: 4\n",
      "\tTimestep: 1\n",
      "\u001b[1m1/1\u001b[0m \u001b[32m━━━━━━━━━━━━━━━━━━━━\u001b[0m\u001b[37m\u001b[0m \u001b[1m0s\u001b[0m 47ms/step\n",
      "running reward: 4.00 at episode 4, frame count 40\n",
      "\tTimestep: 2\n",
      "\tTimestep: 3\n",
      "\tTimestep: 4\n",
      "\tTimestep: 5\n",
      "\u001b[1m1/1\u001b[0m \u001b[32m━━━━━━━━━━━━━━━━━━━━\u001b[0m\u001b[37m\u001b[0m \u001b[1m0s\u001b[0m 46ms/step\n",
      "Episode: 5\n",
      "\tTimestep: 1\n",
      "running reward: 3.70 at episode 5, frame count 45\n",
      "\tTimestep: 2\n",
      "\tTimestep: 3\n",
      "\tTimestep: 4\n",
      "\u001b[1m1/1\u001b[0m \u001b[32m━━━━━━━━━━━━━━━━━━━━\u001b[0m\u001b[37m\u001b[0m \u001b[1m0s\u001b[0m 34ms/step\n",
      "\tTimestep: 5\n",
      "Episode: 6\n",
      "\tTimestep: 1\n",
      "running reward: 3.50 at episode 6, frame count 50\n",
      "\tTimestep: 2\n",
      "\tTimestep: 3\n",
      "\u001b[1m1/1\u001b[0m \u001b[32m━━━━━━━━━━━━━━━━━━━━\u001b[0m\u001b[37m\u001b[0m \u001b[1m0s\u001b[0m 33ms/step\n",
      "\tTimestep: 4\n",
      "\tTimestep: 5\n",
      "\tTimestep: 6\n",
      "running reward: 3.50 at episode 6, frame count 55\n",
      "Episode: 7\n",
      "\tTimestep: 1\n",
      "\u001b[1m1/1\u001b[0m \u001b[32m━━━━━━━━━━━━━━━━━━━━\u001b[0m\u001b[37m\u001b[0m \u001b[1m0s\u001b[0m 28ms/step\n",
      "\tTimestep: 2\n",
      "\tTimestep: 3\n",
      "\tTimestep: 4\n",
      "\tTimestep: 5\n",
      "\u001b[1m1/1\u001b[0m \u001b[32m━━━━━━━━━━━━━━━━━━━━\u001b[0m\u001b[37m\u001b[0m \u001b[1m0s\u001b[0m 36ms/step\n",
      "running reward: 3.50 at episode 7, frame count 60\n",
      "Episode: 8\n",
      "\tTimestep: 1\n",
      "\tTimestep: 2\n",
      "\tTimestep: 3\n",
      "\tTimestep: 4\n",
      "\u001b[1m1/1\u001b[0m \u001b[32m━━━━━━━━━━━━━━━━━━━━\u001b[0m\u001b[37m\u001b[0m \u001b[1m0s\u001b[0m 34ms/step\n",
      "\tTimestep: 5\n",
      "running reward: 3.38 at episode 8, frame count 65\n",
      "Episode: 9\n",
      "\tTimestep: 1\n",
      "\tTimestep: 2\n",
      "\tTimestep: 3\n",
      "\u001b[1m1/1\u001b[0m \u001b[32m━━━━━━━━━━━━━━━━━━━━\u001b[0m\u001b[37m\u001b[0m \u001b[1m0s\u001b[0m 31ms/step\n",
      "\tTimestep: 4\n",
      "\tTimestep: 5\n",
      "running reward: 3.28 at episode 9, frame count 70\n",
      "Stopped at episode 10!\n"
     ]
    }
   ],
   "source": [
    "import real_q_learning\n",
    "import Q\n",
    "\n",
    "(m1, m2, history) = real_q_learning.q_learn(\n",
    "    agent=NN.model,\n",
    "    env = real_q_learning.Enviroment(6, 7, 1, Q.Q_based_opponent()),\n",
    "    max_steps_per_episode = 25,\n",
    "    epsilon_random_frames = 5, # Number of frames to take random action and observe output\n",
    "    epsilon_greedy_frames = 10, # Number of frames for exploration\n",
    "    epsilon_min = 0.1, # Minimum epsilon greedy parameter\n",
    "    epsilon_max = 1,  # Maximum epsilon greedy parameter\n",
    "    update_after_actions = 4, # Train the model after n actions,\n",
    "    batch_size = 16,\n",
    "    gamma = 0.99,  # Discount factor for past rewards,\n",
    "    epsilon= 1.0,\n",
    "    loss_function = keras.losses.MeanSquaredError(),\n",
    "    optimizer = keras.optimizers.Adam(),\n",
    "    update_target_network = 5, # How often to update the target network\n",
    "    max_memory_length = 50,\n",
    "    max_episodes = 10  # Limit training episodes, will run until solved if smaller than 1\n",
    ")"
   ]
  },
  {
   "cell_type": "code",
   "execution_count": 3,
   "id": "1d787254",
   "metadata": {},
   "outputs": [],
   "source": [
    "NN.model = m1\n",
    "NN.save(\"NN4/Conv2D_Qlearning.keras\")"
   ]
  }
 ],
 "metadata": {
  "kernelspec": {
   "display_name": "Python 3",
   "language": "python",
   "name": "python3"
  },
  "language_info": {
   "codemirror_mode": {
    "name": "ipython",
    "version": 3
   },
   "file_extension": ".py",
   "mimetype": "text/x-python",
   "name": "python",
   "nbconvert_exporter": "python",
   "pygments_lexer": "ipython3",
   "version": "3.12.7"
  }
 },
 "nbformat": 4,
 "nbformat_minor": 5
}

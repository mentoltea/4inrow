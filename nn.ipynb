{
 "cells": [
  {
   "cell_type": "code",
   "execution_count": 1,
   "id": "77a9f3ad",
   "metadata": {},
   "outputs": [],
   "source": [
    "import qnn\n",
    "\n",
    "NN = qnn.game_qNN.new(6, 7, inner_layers=[63, 32, 16])\n"
   ]
  },
  {
   "cell_type": "code",
   "execution_count": 2,
   "id": "330def0b",
   "metadata": {},
   "outputs": [
    {
     "name": "stdout",
     "output_type": "stream",
     "text": [
      "- - - - - - - \n",
      "- - - - - - - \n",
      "- - - - - - - \n",
      "- - - - - - - \n",
      "- - - - - - O \n",
      "X O - - O X X \n",
      "1 2 3 4 5 6 7 \n",
      "\n"
     ]
    },
    {
     "data": {
      "text/plain": [
       "([2, 4, 0, 6, 3, 1, 5],\n",
       " [(2, 0.6919578909873962),\n",
       "  (4, 0.5594726800918579),\n",
       "  (0, 0.5305649042129517),\n",
       "  (6, 0.13942888379096985),\n",
       "  (3, -0.10181835293769836),\n",
       "  (1, -0.15742462873458862),\n",
       "  (5, -0.5526302456855774)])"
      ]
     },
     "execution_count": 2,
     "metadata": {},
     "output_type": "execute_result"
    }
   ],
   "source": [
    "import game as Game\n",
    "import numpy as np\n",
    "\n",
    "gm = Game.Game(6,7)\n",
    "\n",
    "gm.random_moves(6)\n",
    "gm.print()\n",
    "\n",
    "# NN.predict( np.array([gm.gamemap]) )\n",
    "NN.get_columns(gm, -1)"
   ]
  },
  {
   "cell_type": "code",
   "execution_count": 2,
   "id": "6ffed42a",
   "metadata": {},
   "outputs": [
    {
     "name": "stdout",
     "output_type": "stream",
     "text": [
      "- - - - - - - \n",
      "- - - - - - - \n",
      "- - - - - - - \n",
      "- - - - - - - \n",
      "- X - - - O - \n",
      "- O O X - X - \n",
      "0 1 2 3 4 5 6 \n",
      "\n",
      "0.5741175852609014\n",
      "0.4258824147390986\n"
     ]
    }
   ],
   "source": [
    "import mcts\n",
    "import game as Game\n",
    "\n",
    "gm = Game.Game(6,7)\n",
    "\n",
    "# gm.gamemap[5][1] = 1\n",
    "# gm.gamemap[5][2] = 1\n",
    "# gm.gamemap[5][3] = 1\n",
    "# gm.gamemap[4][2] = -1\n",
    "# gm.turn = -1\n",
    "gm.random_moves(6)\n",
    "\n",
    "gm.print()\n",
    "\n",
    "print(mcts.get_chance_n_steps_from_win(gm, 1, 7))\n",
    "print(mcts.loss(gm, 1, 7))"
   ]
  }
 ],
 "metadata": {
  "kernelspec": {
   "display_name": "Python 3",
   "language": "python",
   "name": "python3"
  },
  "language_info": {
   "codemirror_mode": {
    "name": "ipython",
    "version": 3
   },
   "file_extension": ".py",
   "mimetype": "text/x-python",
   "name": "python",
   "nbconvert_exporter": "python",
   "pygments_lexer": "ipython3",
   "version": "3.12.7"
  }
 },
 "nbformat": 4,
 "nbformat_minor": 5
}

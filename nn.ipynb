{
 "cells": [
  {
   "cell_type": "code",
   "execution_count": null,
   "id": "77a9f3ad",
   "metadata": {},
   "outputs": [],
   "source": [
    "import qnn\n",
    "\n",
    "NN = qnn.game_qNN.new(6, 7, inner_layers=[63, 32, 16])\n"
   ]
  },
  {
   "cell_type": "code",
   "execution_count": null,
   "id": "330def0b",
   "metadata": {},
   "outputs": [],
   "source": [
    "import game as Game\n",
    "import numpy as np\n",
    "\n",
    "gm = Game.Game(6,7)\n",
    "\n",
    "gm.random_moves(6)\n",
    "gm.print()\n",
    "\n",
    "# NN.predict( np.array([gm.gamemap]) )\n",
    "NN.get_columns(gm, -1)"
   ]
  },
  {
   "cell_type": "code",
   "execution_count": null,
   "id": "6ffed42a",
   "metadata": {},
   "outputs": [],
   "source": [
    "import mcts\n",
    "import game as Game\n",
    "\n",
    "gm = Game.Game(6,7)\n",
    "\n",
    "gm.gamemap[5][1] = 1\n",
    "gm.gamemap[5][2] = 1\n",
    "gm.gamemap[5][3] = 1\n",
    "gm.gamemap[4][2] = -1\n",
    "gm.turn = -1\n",
    "# gm.random_moves(13)\n",
    "\n",
    "gm.print()\n",
    "\n",
    "print(mcts.get_moves_n_steps_from_win(gm, 1, 5))\n",
    "print(mcts.get_chance_n_steps_from_win(gm, 1, 5))\n",
    "print(mcts.get_moves_and_chance_n_steps_from_win(gm, 1, 5))"
   ]
  }
 ],
 "metadata": {
  "kernelspec": {
   "display_name": "Python 3",
   "language": "python",
   "name": "python3"
  },
  "language_info": {
   "codemirror_mode": {
    "name": "ipython",
    "version": 3
   },
   "file_extension": ".py",
   "mimetype": "text/x-python",
   "name": "python",
   "nbconvert_exporter": "python",
   "pygments_lexer": "ipython3",
   "version": "3.12.7"
  }
 },
 "nbformat": 4,
 "nbformat_minor": 5
}
